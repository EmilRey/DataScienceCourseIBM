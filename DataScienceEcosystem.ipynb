{
 "cells": [
  {
   "cell_type": "markdown",
   "id": "c2b3dce4-fbae-4dd9-91e0-5db555fd0de5",
   "metadata": {},
   "source": [
    "# Data Science Tools and Ecosystem"
   ]
  },
  {
   "cell_type": "markdown",
   "id": "0da80cd4-e25d-48ad-bb99-09a216290f4d",
   "metadata": {},
   "source": [
    "## Author \n",
    "M J J"
   ]
  },
  {
   "cell_type": "markdown",
   "id": "75428e7b-0761-4219-a388-b4820d2968ca",
   "metadata": {},
   "source": [
    "# In this notebook, Data Science Tools and Ecosystem are summarized"
   ]
  },
  {
   "cell_type": "markdown",
   "id": "13bcb3f1-ddc0-49ce-b53c-d4a061dfd2f5",
   "metadata": {},
   "source": [
    "# **Objectives**\n",
    "* Open Source Tools for Data Science\n",
    "* Commericial Tools for Data Science\n",
    "* Popular Libraries for Data Science\n",
    "* Git and GitHub Overview"
   ]
  },
  {
   "cell_type": "markdown",
   "id": "c09e2520-3fc1-42f6-b0f0-1b876e87bfe9",
   "metadata": {},
   "source": [
    "# Some of the popular languageds that Data Scientists use are:\n",
    "1. python\n",
    "2. R\n",
    "3. sql\n",
    "4. Java\n",
    "5. SAS\n"
   ]
  },
  {
   "cell_type": "markdown",
   "id": "c3ef79b9-4ee2-45c7-b41e-6cd76b818578",
   "metadata": {},
   "source": [
    "# Some of the commonly used libraries used by Data Scientists include:\n",
    "## Python\n",
    "1. pandas\n",
    "2. numpy\n",
    "3. matplotlib\n",
    "4. SciPy\n",
    "5. Scikit-learn\n",
    "6. Keras\n",
    "## R\n",
    "1. ggplot\n",
    "2. plotly\n",
    "3. attice\n",
    "4. leaflet\n"
   ]
  },
  {
   "cell_type": "markdown",
   "id": "bd2d40c6-c204-4fae-b2c1-225b2b274fd6",
   "metadata": {},
   "source": [
    "\n",
    "| Data Science Tools |\n",
    "|--------------------|\n",
    "| Jupyter Notebook    |\n",
    "| Apache Zeplin       |\n",
    "| R Studio            |"
   ]
  },
  {
   "cell_type": "markdown",
   "id": "8884bb97-a8fa-44e8-9e8a-3f43517996c8",
   "metadata": {},
   "source": [
    "### Below are a few examples of evaluating arithmetic expressions in Python"
   ]
  },
  {
   "cell_type": "code",
   "execution_count": 36,
   "id": "a8dfabf2-266d-473b-a09e-baebc71a83be",
   "metadata": {},
   "outputs": [
    {
     "data": {
      "text/plain": [
       "17"
      ]
     },
     "execution_count": 36,
     "metadata": {},
     "output_type": "execute_result"
    }
   ],
   "source": [
    "# this is a simple arithmetic expression to multiply two integers and then add a third integer\n",
    "(3*4)+5"
   ]
  },
  {
   "cell_type": "code",
   "execution_count": 38,
   "id": "246adb07-2449-4ff1-9b10-3b78ed74fadf",
   "metadata": {},
   "outputs": [
    {
     "data": {
      "text/plain": [
       "3.3333333333333335"
      ]
     },
     "execution_count": 38,
     "metadata": {},
     "output_type": "execute_result"
    }
   ],
   "source": [
    "#This will convert 200 minutes to hours by dividing the minutes by 60\n",
    "200/60"
   ]
  },
  {
   "cell_type": "code",
   "execution_count": null,
   "id": "5ca10ba9-e84e-4a63-a2d7-23d3e3968657",
   "metadata": {},
   "outputs": [],
   "source": [
    "# "
   ]
  }
 ],
 "metadata": {
  "kernelspec": {
   "display_name": "Python 3 (ipykernel)",
   "language": "python",
   "name": "python3"
  },
  "language_info": {
   "codemirror_mode": {
    "name": "ipython",
    "version": 3
   },
   "file_extension": ".py",
   "mimetype": "text/x-python",
   "name": "python",
   "nbconvert_exporter": "python",
   "pygments_lexer": "ipython3",
   "version": "3.11.7"
  }
 },
 "nbformat": 4,
 "nbformat_minor": 5
}
